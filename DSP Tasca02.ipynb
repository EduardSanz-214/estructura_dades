{
 "cells": [
  {
   "cell_type": "markdown",
   "metadata": {},
   "source": [
    "# Estructura de dades.\n",
    "\n",
    "## Nivell 1\n",
    "\n",
    "### Exercici 1\n",
    "\n",
    "Crea una llista que agrupi els mesos de l’any en trimestres (1T: Gener, Febrer i Març, 2T: Abril, Maig, Juny...), és a dir, una llista amb 4 llistes dins."
   ]
  },
  {
   "cell_type": "code",
   "execution_count": 30,
   "metadata": {},
   "outputs": [
    {
     "name": "stdout",
     "output_type": "stream",
     "text": [
      "[['Gener', 'Febrer', 'Març'], ['Abril', 'Maig', 'juny'], ['Juliol', 'Agost', 'Setembre'], ['Octubre', 'Novembre', 'Desembre']]\n"
     ]
    }
   ],
   "source": [
    "Trimestre01=[\"Gener\",\"Febrer\",\"Març\"]\n",
    "Trimestre02=[\"Abril\",\"Maig\",\"juny\"]\n",
    "Trimestre03=[\"Juliol\",\"Agost\",\"Setembre\"]\n",
    "Trimestre04=[\"Octubre\",\"Novembre\",\"Desembre\"]\n",
    "\n",
    "Any=[Trimestre01,Trimestre02,Trimestre03,Trimestre04]\n",
    "\n",
    "print(Any)"
   ]
  },
  {
   "cell_type": "markdown",
   "metadata": {},
   "source": [
    "### Exercici 2\n",
    "\n",
    "Crea un codi que et permeti accedir a:\n",
    "\n",
    "*El segon mes del primer trimestre"
   ]
  },
  {
   "cell_type": "code",
   "execution_count": 31,
   "metadata": {},
   "outputs": [
    {
     "name": "stdout",
     "output_type": "stream",
     "text": [
      "Febrer\n"
     ]
    }
   ],
   "source": [
    "print(Trimestre01[1])"
   ]
  },
  {
   "cell_type": "markdown",
   "metadata": {},
   "source": [
    "O també..."
   ]
  },
  {
   "cell_type": "code",
   "execution_count": 32,
   "metadata": {},
   "outputs": [
    {
     "name": "stdout",
     "output_type": "stream",
     "text": [
      "Febrer\n"
     ]
    }
   ],
   "source": [
    "print(Any[0][1])"
   ]
  },
  {
   "cell_type": "markdown",
   "metadata": {},
   "source": [
    "* Els mesos del primer trimestre"
   ]
  },
  {
   "cell_type": "code",
   "execution_count": 33,
   "metadata": {
    "scrolled": false
   },
   "outputs": [
    {
     "name": "stdout",
     "output_type": "stream",
     "text": [
      "['Gener', 'Febrer', 'Març']\n"
     ]
    }
   ],
   "source": [
    "print(Any[0])"
   ]
  },
  {
   "cell_type": "markdown",
   "metadata": {},
   "source": [
    "* Setembre i Octubre"
   ]
  },
  {
   "cell_type": "code",
   "execution_count": 34,
   "metadata": {},
   "outputs": [
    {
     "name": "stdout",
     "output_type": "stream",
     "text": [
      "Setembre i Octubre\n"
     ]
    }
   ],
   "source": [
    "print(Trimestre03[2]+\" i \"+ Trimestre04[0])"
   ]
  },
  {
   "cell_type": "markdown",
   "metadata": {},
   "source": [
    "### Exercici 3\n",
    "\n",
    "Crea una llista amb nombres desordenats"
   ]
  },
  {
   "cell_type": "code",
   "execution_count": 35,
   "metadata": {},
   "outputs": [],
   "source": [
    "NumDes = [21,154,25,122,31,8,52,32,3,42,512,323,74,17,55,41,81,51,99,6,13,222,190,44,15,88,55,10,20,63,77,56,12]"
   ]
  },
  {
   "cell_type": "markdown",
   "metadata": {},
   "source": [
    "* Quants números hi ha?"
   ]
  },
  {
   "cell_type": "code",
   "execution_count": 36,
   "metadata": {
    "scrolled": true
   },
   "outputs": [
    {
     "name": "stdout",
     "output_type": "stream",
     "text": [
      "33 és el total de números\n"
     ]
    }
   ],
   "source": [
    "print(str(len(NumDes))+ \" és el total de números\")"
   ]
  },
  {
   "cell_type": "markdown",
   "metadata": {},
   "source": [
    "* Quantes vegades apareix el número 3"
   ]
  },
  {
   "cell_type": "code",
   "execution_count": 37,
   "metadata": {
    "scrolled": true
   },
   "outputs": [
    {
     "name": "stdout",
     "output_type": "stream",
     "text": [
      "El número 3 apareix 1 vegades\n"
     ]
    }
   ],
   "source": [
    "print(\"El número 3 apareix \"+str(NumDes.count(3))+\" vegades\")"
   ]
  },
  {
   "cell_type": "markdown",
   "metadata": {},
   "source": [
    "* Quantes vegades apareixen els nombres 3 i 4"
   ]
  },
  {
   "cell_type": "code",
   "execution_count": 38,
   "metadata": {},
   "outputs": [
    {
     "name": "stdout",
     "output_type": "stream",
     "text": [
      "211542512231852323425123237417554181519961322219044158855102063775612\n"
     ]
    }
   ],
   "source": [
    "CadenaNumDes=\"\"\n",
    "for x in NumDes:\n",
    "    CadenaNumDes=CadenaNumDes + str(x)  \n",
    "\n",
    "print(CadenaNumDes)"
   ]
  },
  {
   "cell_type": "code",
   "execution_count": 39,
   "metadata": {
    "scrolled": true
   },
   "outputs": [
    {
     "name": "stdout",
     "output_type": "stream",
     "text": [
      "Els nombres 3 i 4 apareixen 13 Vegades.\n"
     ]
    }
   ],
   "source": [
    "print(\"Els nombres 3 i 4 apareixen \"+str(CadenaNumDes.count(\"3\")+CadenaNumDes.count(\"4\"))+\" Vegades.\")"
   ]
  },
  {
   "cell_type": "markdown",
   "metadata": {},
   "source": [
    "* Quin és el número més gran?"
   ]
  },
  {
   "cell_type": "code",
   "execution_count": 40,
   "metadata": {},
   "outputs": [],
   "source": [
    "NumDes.sort(reverse=True)"
   ]
  },
  {
   "cell_type": "code",
   "execution_count": 41,
   "metadata": {},
   "outputs": [
    {
     "name": "stdout",
     "output_type": "stream",
     "text": [
      "El número més gran de la llista és 512.\n"
     ]
    }
   ],
   "source": [
    "print(\"El número més gran de la llista és \"+str(NumDes[0])+\".\")"
   ]
  },
  {
   "cell_type": "markdown",
   "metadata": {},
   "source": [
    "* Quins són els 3 números més petits? (sense repetir-se)"
   ]
  },
  {
   "cell_type": "code",
   "execution_count": 42,
   "metadata": {},
   "outputs": [
    {
     "name": "stdout",
     "output_type": "stream",
     "text": [
      "[3, 6, 8]\n"
     ]
    }
   ],
   "source": [
    "NumDes.sort()\n",
    "#print(NumDes)\n",
    "contador=0\n",
    "NumPetits=list()\n",
    "for x in NumDes:\n",
    "    if contador==0 :\n",
    "        NumPetits.append(x)\n",
    "        contador=1\n",
    "    elif contador==1:\n",
    "        if x != NumPetits[0]:\n",
    "            NumPetits.append(x)\n",
    "            contador=2\n",
    "    elif contador==2:\n",
    "        if x!= NumPetits[1]:\n",
    "            NumPetits.append(x)\n",
    "            contador=3\n",
    "    if contador==3: exit\n",
    "print(NumPetits)"
   ]
  },
  {
   "cell_type": "markdown",
   "metadata": {},
   "source": [
    "* Quin és el rang d'aquesta llista?\n",
    "\n",
    "És una llista unidimensional."
   ]
  },
  {
   "cell_type": "markdown",
   "metadata": {},
   "source": [
    "### Exercici 4\n",
    "\n",
    "Crea un diccionari de la següent forma i respon"
   ]
  },
  {
   "cell_type": "code",
   "execution_count": 43,
   "metadata": {},
   "outputs": [],
   "source": [
    "Compra={\"Pomes\":{\"Qty\":5,\"€\":0.42},\"Peres\":{\"Qty\":3,\"€\":0.66}}"
   ]
  },
  {
   "cell_type": "markdown",
   "metadata": {},
   "source": [
    "* Afegeix alguna fruita més..."
   ]
  },
  {
   "cell_type": "code",
   "execution_count": 44,
   "metadata": {},
   "outputs": [
    {
     "name": "stdout",
     "output_type": "stream",
     "text": [
      "dict_items([('Pomes', {'Qty': 5, '€': 0.42}), ('Peres', {'Qty': 3, '€': 0.66}), ('Pinya', {'Qty': 3, '€': 0.9}), ('Meló', {'Qty': 5, '€': 1.5}), ('Sindria', {'Qty': 2, '€': 2.5})])\n"
     ]
    }
   ],
   "source": [
    "Compra.update({\"Pinya\":{\"Qty\":3,\"€\":0.9}})\n",
    "Compra.update({\"Meló\":{\"Qty\":5,\"€\":1.5}})\n",
    "Compra.update({\"Sindria\":{\"Qty\":2,\"€\":2.5}})\n",
    "print(Compra.items())\n"
   ]
  },
  {
   "cell_type": "markdown",
   "metadata": {},
   "source": [
    "* Quant han costat les peres en total?"
   ]
  },
  {
   "cell_type": "markdown",
   "metadata": {},
   "source": [
    "Suposant que \"Qty\" te com a unitats Kilograms, i el preu es per kilogram..."
   ]
  },
  {
   "cell_type": "code",
   "execution_count": 45,
   "metadata": {
    "scrolled": true
   },
   "outputs": [
    {
     "name": "stdout",
     "output_type": "stream",
     "text": [
      "Les peres han costat 1.98 €.\n"
     ]
    }
   ],
   "source": [
    "print(\"Les peres han costat \"+str(Compra[\"Peres\"][\"Qty\"]*Compra[\"Peres\"][\"€\"])+\" €.\")"
   ]
  },
  {
   "cell_type": "markdown",
   "metadata": {},
   "source": [
    "* Quantes fruites hem comprat en total?"
   ]
  },
  {
   "cell_type": "code",
   "execution_count": 46,
   "metadata": {},
   "outputs": [
    {
     "name": "stdout",
     "output_type": "stream",
     "text": [
      "En total hem comprat 5 tipus de fruita diferents.\n"
     ]
    }
   ],
   "source": [
    "print(\"En total hem comprat \"+str(len(Compra))+\" tipus de fruita diferents.\")"
   ]
  },
  {
   "cell_type": "markdown",
   "metadata": {},
   "source": [
    "* Quina és la fruita més cara?"
   ]
  },
  {
   "cell_type": "code",
   "execution_count": 29,
   "metadata": {},
   "outputs": [
    {
     "name": "stdout",
     "output_type": "stream",
     "text": [
      "La fruita més cara és Sindria i té un preu de 2.5 €/kg.\n"
     ]
    }
   ],
   "source": [
    "MesCara=0\n",
    "NomMesCara=\"\"\n",
    "for x in Compra:\n",
    "    preu=Compra[x][\"€\"]\n",
    "    if MesCara<preu:\n",
    "        MesCara=preu\n",
    "        NomMesCara=x\n",
    "\n",
    "print(\"La fruita més cara és \"+NomMesCara+\" i té un preu de \"+str(MesCara)+\" €/kg.\")"
   ]
  }
 ],
 "metadata": {
  "kernelspec": {
   "display_name": "Python 3",
   "language": "python",
   "name": "python3"
  },
  "language_info": {
   "codemirror_mode": {
    "name": "ipython",
    "version": 3
   },
   "file_extension": ".py",
   "mimetype": "text/x-python",
   "name": "python",
   "nbconvert_exporter": "python",
   "pygments_lexer": "ipython3",
   "version": "3.8.5"
  }
 },
 "nbformat": 4,
 "nbformat_minor": 4
}
